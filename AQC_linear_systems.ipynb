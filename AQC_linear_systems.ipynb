{
 "cells": [
  {
   "cell_type": "markdown",
   "metadata": {},
   "source": [
    "This code solves arbitrary systems of linear equations using adiabatic quantum computing concepts.\n",
    "\n",
    "References:\n",
    "\n",
    "[1] https://arxiv.org/pdf/1805.10549\n",
    "\n",
    "[2] https://arxiv.org/pdf/quant-ph/0001106"
   ]
  },
  {
   "cell_type": "code",
   "execution_count": 49,
   "metadata": {},
   "outputs": [],
   "source": [
    "from qiskit import QuantumCircuit, transpile\n",
    "from qiskit_aer import Aer\n",
    "from qiskit.circuit.library import UnitaryGate\n",
    "from qiskit.quantum_info import Operator\n",
    "from qiskit.visualization import plot_histogram\n",
    "import numpy as np\n",
    "import math\n",
    "import time\n",
    "\n",
    "from ProblemData import ProblemData"
   ]
  },
  {
   "cell_type": "code",
   "execution_count": 58,
   "metadata": {},
   "outputs": [],
   "source": [
    "def check_matrix_format(A_matrix):\n",
    "   # Extract the matrix from the Operator\n",
    "    matrix = A_matrix.to_matrix()\n",
    "\n",
    "    # Check if matrix is square\n",
    "    assert matrix.shape[0] == matrix.shape[1], \"Matrix must be square.\"\n",
    "\n",
    "    # Check if matrix is unitary\n",
    "    identity_matrix = np.eye(matrix.shape[0])\n",
    "    assert np.allclose(identity_matrix, matrix @ matrix.T.conj()), \"Matrix must be unitary.\"\n"
   ]
  },
  {
   "cell_type": "markdown",
   "metadata": {},
   "source": [
    "Return the A(s) operator from equation 3 of [1]"
   ]
  },
  {
   "cell_type": "code",
   "execution_count": 55,
   "metadata": {},
   "outputs": [],
   "source": [
    "def get_A_s(s, A):\n",
    "    n_qubits = int(np.log2(len(A)))\n",
    "\n",
    "    # Define Pauli matrices as NumPy arrays\n",
    "    Z = Operator(np.array([[1, 0], [0, -1]]))\n",
    "    X = Operator(np.array([[0, 1], [1, 0]]))\n",
    "    I_n = Operator(np.eye(2 ** n_qubits))\n",
    "\n",
    "    # Compute tensor products\n",
    "    Z_tensor = Z.tensor(I_n)\n",
    "    X_tensor = X.tensor(Operator(A))\n",
    "\n",
    "    # Construct the A_s matrix\n",
    "    A_s = (1 - s) * Z_tensor + s * X_tensor\n",
    "\n",
    "    check_matrix_format(A_s)\n",
    "    \n",
    "    return A_s"
   ]
  },
  {
   "cell_type": "markdown",
   "metadata": {},
   "source": [
    "Adiabatic solver function"
   ]
  },
  {
   "cell_type": "code",
   "execution_count": 56,
   "metadata": {},
   "outputs": [],
   "source": [
    "def adiabatic_solver(A_matrix, b_vec, T, M, plot_evolution=False, verbose=False):\n",
    "    # Normalize\n",
    "    A_matrix = A_matrix / np.linalg.norm(A_matrix)\n",
    "    b_vec = b_vec / np.linalg.norm(b_vec)\n",
    "\n",
    "    # Initialize the quantum circuit\n",
    "    n_qubits = int(np.log2(len(A_matrix))) + 1\n",
    "    qc = QuantumCircuit(n_qubits)\n",
    "\n",
    "    # Define the initial state |psi>\n",
    "    '''set the initial state to be a \"-\" qubit and the b vector state,\n",
    "    which is the eigenvector corresponding to the 0-eigenvalue of H(s) from equation 3 of [1]'''\n",
    "    qc.initialize(np.kron([1/np.sqrt(2), -1/np.sqrt(2)], b_vec), qc.qubits)\n",
    "    \n",
    "    # Define the time step\n",
    "    dt = T / M\n",
    "\n",
    "    for l in range(M):\n",
    "        s = l / M\n",
    "        A_s = get_A_s(s, A_matrix)\n",
    "        \n",
    "        # Convert A_s to a UnitaryGate and apply to the circuit\n",
    "        U_s = UnitaryGate(A_s)\n",
    "        qc.append(U_s, qc.qubits)\n",
    "\n",
    "    check_matrix_format(A_s)\n",
    "    \n",
    "    # Simulate the circuit\n",
    "    simulator = Aer.get_backend('aer_simulator')\n",
    "    qc.save_statevector()\n",
    "    compiled_circuit = transpile(qc, simulator)\n",
    "    result = simulator.run(compiled_circuit).result()\n",
    "    final_state = result.get_statevector(qc)\n",
    "\n",
    "    # Plotting the results\n",
    "    if plot_evolution:\n",
    "        plot_histogram(final_state.probabilities_dict())\n",
    "\n",
    "    return final_state\n",
    "    "
   ]
  },
  {
   "cell_type": "markdown",
   "metadata": {},
   "source": [
    "Use PrpblemData class to create a linear system corresponding to a neutron transport equation discretization"
   ]
  },
  {
   "cell_type": "code",
   "execution_count": 59,
   "metadata": {},
   "outputs": [
    {
     "name": "stdout",
     "output_type": "stream",
     "text": [
      "real answer (scaled):\n",
      "[0.07268108 0.09791757 0.1030929  0.08964646 0.08964646 0.1030929\n",
      " 0.09791757 0.07268108 0.09791757 0.16421758 0.17039745 0.11853306\n",
      " 0.11853306 0.17039745 0.16421758 0.09791757 0.1030929  0.17039745\n",
      " 0.17705097 0.12518853 0.12518853 0.17705097 0.17039745 0.1030929\n",
      " 0.08964646 0.11853306 0.12518853 0.11127869 0.11127869 0.12518853\n",
      " 0.11853306 0.08964646 0.08964646 0.11853306 0.12518853 0.11127869\n",
      " 0.11127869 0.12518853 0.11853306 0.08964646 0.1030929  0.17039745\n",
      " 0.17705097 0.12518853 0.12518853 0.17705097 0.17039745 0.1030929\n",
      " 0.09791757 0.16421758 0.17039745 0.11853306 0.11853306 0.17039745\n",
      " 0.16421758 0.09791757 0.07268108 0.09791757 0.1030929  0.08964646\n",
      " 0.08964646 0.1030929  0.09791757 0.07268108]\n"
     ]
    },
    {
     "ename": "AssertionError",
     "evalue": "Matrix must be unitary.",
     "output_type": "error",
     "traceback": [
      "\u001b[0;31m---------------------------------------------------------------------------\u001b[0m",
      "\u001b[0;31mAssertionError\u001b[0m                            Traceback (most recent call last)",
      "Cell \u001b[0;32mIn[59], line 33\u001b[0m\n\u001b[1;32m     31\u001b[0m \u001b[38;5;28;01mfor\u001b[39;00m i, T \u001b[38;5;129;01min\u001b[39;00m \u001b[38;5;28menumerate\u001b[39m(T_vec):\n\u001b[1;32m     32\u001b[0m     \u001b[38;5;28;01mfor\u001b[39;00m j, M \u001b[38;5;129;01min\u001b[39;00m \u001b[38;5;28menumerate\u001b[39m(M_vec):\n\u001b[0;32m---> 33\u001b[0m         psi \u001b[38;5;241m=\u001b[39m \u001b[43madiabatic_solver\u001b[49m\u001b[43m(\u001b[49m\u001b[43mA_matrix\u001b[49m\u001b[43m,\u001b[49m\u001b[43m \u001b[49m\u001b[43mb_vec\u001b[49m\u001b[43m,\u001b[49m\u001b[43m \u001b[49m\u001b[43mT\u001b[49m\u001b[43m,\u001b[49m\u001b[43m \u001b[49m\u001b[43mM\u001b[49m\u001b[43m,\u001b[49m\u001b[43m \u001b[49m\u001b[43mplot_evolution\u001b[49m\u001b[38;5;241;43m=\u001b[39;49m\u001b[38;5;28;43;01mFalse\u001b[39;49;00m\u001b[43m,\u001b[49m\u001b[43m \u001b[49m\u001b[43mverbose\u001b[49m\u001b[38;5;241;43m=\u001b[39;49m\u001b[38;5;28;43;01mFalse\u001b[39;49;00m\u001b[43m)\u001b[49m\n\u001b[1;32m     34\u001b[0m         psi \u001b[38;5;241m=\u001b[39m psi[\u001b[38;5;241m0\u001b[39m:\u001b[38;5;28mint\u001b[39m(\u001b[38;5;28mlen\u001b[39m(psi)\u001b[38;5;241m/\u001b[39m\u001b[38;5;241m2\u001b[39m)]\n\u001b[1;32m     35\u001b[0m         psi \u001b[38;5;241m=\u001b[39m psi \u001b[38;5;241m/\u001b[39m np\u001b[38;5;241m.\u001b[39mlinalg\u001b[38;5;241m.\u001b[39mnorm(psi)\n",
      "Cell \u001b[0;32mIn[56], line 20\u001b[0m, in \u001b[0;36madiabatic_solver\u001b[0;34m(A_matrix, b_vec, T, M, plot_evolution, verbose)\u001b[0m\n\u001b[1;32m     18\u001b[0m \u001b[38;5;28;01mfor\u001b[39;00m l \u001b[38;5;129;01min\u001b[39;00m \u001b[38;5;28mrange\u001b[39m(M):\n\u001b[1;32m     19\u001b[0m     s \u001b[38;5;241m=\u001b[39m l \u001b[38;5;241m/\u001b[39m M\n\u001b[0;32m---> 20\u001b[0m     A_s \u001b[38;5;241m=\u001b[39m \u001b[43mget_A_s\u001b[49m\u001b[43m(\u001b[49m\u001b[43ms\u001b[49m\u001b[43m,\u001b[49m\u001b[43m \u001b[49m\u001b[43mA_matrix\u001b[49m\u001b[43m)\u001b[49m\n\u001b[1;32m     22\u001b[0m     \u001b[38;5;66;03m# Convert A_s to a UnitaryGate and apply to the circuit\u001b[39;00m\n\u001b[1;32m     23\u001b[0m     U_s \u001b[38;5;241m=\u001b[39m UnitaryGate(A_s)\n",
      "Cell \u001b[0;32mIn[55], line 16\u001b[0m, in \u001b[0;36mget_A_s\u001b[0;34m(s, A)\u001b[0m\n\u001b[1;32m     13\u001b[0m \u001b[38;5;66;03m# Construct the A_s matrix\u001b[39;00m\n\u001b[1;32m     14\u001b[0m A_s \u001b[38;5;241m=\u001b[39m (\u001b[38;5;241m1\u001b[39m \u001b[38;5;241m-\u001b[39m s) \u001b[38;5;241m*\u001b[39m Z_tensor \u001b[38;5;241m+\u001b[39m s \u001b[38;5;241m*\u001b[39m X_tensor\n\u001b[0;32m---> 16\u001b[0m \u001b[43mcheck_matrix_format\u001b[49m\u001b[43m(\u001b[49m\u001b[43mA_s\u001b[49m\u001b[43m)\u001b[49m\n\u001b[1;32m     18\u001b[0m \u001b[38;5;28;01mreturn\u001b[39;00m A_s\n",
      "Cell \u001b[0;32mIn[58], line 10\u001b[0m, in \u001b[0;36mcheck_matrix_format\u001b[0;34m(A_matrix)\u001b[0m\n\u001b[1;32m      8\u001b[0m \u001b[38;5;66;03m# Check if matrix is unitary\u001b[39;00m\n\u001b[1;32m      9\u001b[0m identity_matrix \u001b[38;5;241m=\u001b[39m np\u001b[38;5;241m.\u001b[39meye(matrix\u001b[38;5;241m.\u001b[39mshape[\u001b[38;5;241m0\u001b[39m])\n\u001b[0;32m---> 10\u001b[0m \u001b[38;5;28;01massert\u001b[39;00m np\u001b[38;5;241m.\u001b[39mallclose(identity_matrix, matrix \u001b[38;5;241m@\u001b[39m matrix\u001b[38;5;241m.\u001b[39mT\u001b[38;5;241m.\u001b[39mconj()), \u001b[38;5;124m\"\u001b[39m\u001b[38;5;124mMatrix must be unitary.\u001b[39m\u001b[38;5;124m\"\u001b[39m\n",
      "\u001b[0;31mAssertionError\u001b[0m: Matrix must be unitary."
     ]
    }
   ],
   "source": [
    "data = ProblemData(\"input.txt\")\n",
    "\n",
    "# Create the vectors holding the material data at each discretized point\n",
    "data.read_input(\"input.txt\")\n",
    "data.initialize_BC()\n",
    "data.initialize_XSs() \n",
    "\n",
    "# make A matrix and b vector\n",
    "if data.sim_method == \"sp3\":\n",
    "    A_mat_size = 2 * (data.n_x) * (data.n_y)\n",
    "    A_matrix, b_vec = data.sp3_construct_A_matrix(A_mat_size) \n",
    "elif data.sim_method == \"diffusion\":\n",
    "    A_mat_size = (data.n_x) * (data.n_y)\n",
    "    A_matrix, b_vec = data.diffusion_construct_A_matrix(A_mat_size)\n",
    "\n",
    "# Input which T and M values to test\n",
    "T_vec = [1000000]\n",
    "M_vec = [1000]\n",
    "n_bits = 1 + int(math.log2(len(A_matrix)))\n",
    "\n",
    "# Real answer to linear system\n",
    "print(\"real answer (scaled):\")\n",
    "real_psi_solution = np.linalg.inv(A_matrix).dot(b_vec)\n",
    "real_psi_solution = real_psi_solution/np.linalg.norm(real_psi_solution)\n",
    "print(real_psi_solution)\n",
    "\n",
    "# Parametric solutions, run solver for many M and T values\n",
    "psi_solutions = np.zeros((len(T_vec), len(M_vec), len(A_matrix)), dtype=np.complex128)\n",
    "psi_error = np.zeros((len(T_vec), len(M_vec), len(A_matrix)), dtype=np.complex128)\n",
    "time1 = time.perf_counter()\n",
    "for i, T in enumerate(T_vec):\n",
    "    for j, M in enumerate(M_vec):\n",
    "        psi = adiabatic_solver(A_matrix, b_vec, T, M, plot_evolution=False, verbose=False)\n",
    "        psi = psi[0:int(len(psi)/2)]\n",
    "        psi = psi / np.linalg.norm(psi)\n",
    "        psi_solutions[i,j,:] = psi\n",
    "        psi_error[i,j,:] = psi - real_psi_solution\n",
    "\n",
    "        print(\"T: \", T)\n",
    "        print(\"M: \", M)\n",
    "        print(\"psi: \", psi)\n",
    "        print(\"psi absolute value: \", np.abs(psi))\n",
    "        print(\"real psi: \", real_psi_solution)\n",
    "        print(\"psi error: \", psi - real_psi_solution)\n",
    "time2 = time.perf_counter()\n",
    "print(\"solver run time: \", time2 - time1)\n",
    "\n",
    "\n",
    "# plot parametric results\n",
    "psi = psi.reshape((data.n_x, data.n_y))\n",
    "\n",
    "min_val = min(np.min(np.abs(psi)), np.min(real_psi_solution))\n",
    "max_val = min(np.max(np.abs(psi)), np.max(real_psi_solution))\n",
    "\n",
    "ax = sns.heatmap(np.abs(psi), linewidth=0.5, cmap=\"jet\", vmin=min_val, vmax=max_val)\n",
    "plt.title(\"Quantum Solution\")\n",
    "plt.savefig('q_sol.png')\n",
    "plt.figure()\n",
    "\n",
    "real_psi_solution = real_psi_solution.reshape((data.n_x, data.n_y))\n",
    "ax = sns.heatmap(real_psi_solution, linewidth=0.5, cmap=\"jet\", vmin=min_val, vmax=max_val)\n",
    "plt.title(\"Real Solution\")\n",
    "plt.savefig('real_sol.png')\n",
    "plt.figure()\n",
    "plt.show()"
   ]
  },
  {
   "cell_type": "code",
   "execution_count": null,
   "metadata": {},
   "outputs": [],
   "source": []
  }
 ],
 "metadata": {
  "kernelspec": {
   "display_name": ".venv",
   "language": "python",
   "name": "python3"
  },
  "language_info": {
   "codemirror_mode": {
    "name": "ipython",
    "version": 3
   },
   "file_extension": ".py",
   "mimetype": "text/x-python",
   "name": "python",
   "nbconvert_exporter": "python",
   "pygments_lexer": "ipython3",
   "version": "3.10.12"
  }
 },
 "nbformat": 4,
 "nbformat_minor": 2
}
